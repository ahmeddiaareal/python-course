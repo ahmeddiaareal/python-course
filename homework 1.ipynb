{
 "cells": [
  {
   "cell_type": "code",
   "execution_count": 3,
   "id": "24b8ae28",
   "metadata": {},
   "outputs": [
    {
     "name": "stdout",
     "output_type": "stream",
     "text": [
      "enter num1: 7\n",
      "enter num2: 7\n",
      "sum is:  14 multiplication is:  49\n"
     ]
    }
   ],
   "source": [
    "#Exercise 1: Calculate the multiplication and sum of two numbers that you accept from user\n",
    "\n",
    "num1 = int(input(\"enter num1: \"))\n",
    "\n",
    "num2 = int(input(\"enter num2: \"))\n",
    "\n",
    "print(\"sum is: \",num1+num2,\"multiplication is: \",num1*num2)"
   ]
  },
  {
   "cell_type": "code",
   "execution_count": 9,
   "id": "73f4c76b",
   "metadata": {},
   "outputs": [
    {
     "name": "stdout",
     "output_type": "stream",
     "text": [
      "Name**Is**James\n"
     ]
    }
   ],
   "source": [
    "#Exercise 2: Display three strings “Name”, “Is”, “James” as “Name**Is**James”\n",
    "\n",
    "print(\"Name\",\"Is\",\"James\",sep=\"**\")\n"
   ]
  },
  {
   "cell_type": "code",
   "execution_count": 12,
   "id": "98b47d5b",
   "metadata": {},
   "outputs": [
    {
     "name": "stdout",
     "output_type": "stream",
     "text": [
      "enter a: 60\n",
      "enter b: 40\n",
      "Hello World\n"
     ]
    }
   ],
   "source": [
    "#Exercise 3: Print \"Hello World\" if \"a\" is greater than \"b\".\n",
    "\n",
    "a = int(input(\"enter a: \"))\n",
    "b = int(input(\"enter b: \"))\n",
    "\n",
    "if a > b:\n",
    "    print(\"Hello World\")"
   ]
  },
  {
   "cell_type": "code",
   "execution_count": 14,
   "id": "8bc48741",
   "metadata": {},
   "outputs": [
    {
     "name": "stdout",
     "output_type": "stream",
     "text": [
      "Please enter your grade: 60\n",
      "your grade is D\n"
     ]
    }
   ],
   "source": [
    "# Exercise 4: Write a program to accept percentage from the user \n",
    "# and display the grade according to the following:\n",
    "\n",
    "# mark is greater than 90 grade : A\n",
    "# mark is between 80 and 90 grade : B\n",
    "# mark is between 60 and 80 grade : C\n",
    "# mark is below 60 grade : D \n",
    "\n",
    "grade = int(input(\"Please enter your grade: \"))\n",
    "\n",
    "\n",
    "if grade > 90:\n",
    "    print(\"your grade is A\")\n",
    "elif grade >= 80 and grade < 90:\n",
    "    print(\"your grade is B\")\n",
    "elif grade >= 60 and grade < 80:\n",
    "    print(\"your grade is C\")\n",
    "else:\n",
    "    print(\"your grade is D\")\n"
   ]
  },
  {
   "cell_type": "code",
   "execution_count": 17,
   "id": "1bbc4aaa",
   "metadata": {},
   "outputs": [
    {
     "name": "stdout",
     "output_type": "stream",
     "text": [
      "Please enter a number: 3\n",
      "mon\n"
     ]
    }
   ],
   "source": [
    "# Exercise 5: Write a program to accept a number from 1 to 7 and display the name of the day,\n",
    "# examples, 1 for Saturday , 2 for Sunday...etc\n",
    "\n",
    "day = int(input(\"Please enter a number: \"))\n",
    "\n",
    "if day == 1:\n",
    "    print(\"sat\")\n",
    "elif day == 2:\n",
    "     print(\"sunday\")\n",
    "elif day == 3:\n",
    "     print(\"mon\")\n",
    "elif day == 4:\n",
    "     print(\"tues\")\n",
    "elif day == 5:\n",
    "     print(\"wednesday\")\n",
    "elif day == 6:\n",
    "     print(\"thursday\")\n",
    "elif day == 7:\n",
    "     print(\"friday\")\n",
    "else:\n",
    "    print(\"invalid number\")\n",
    "\n"
   ]
  },
  {
   "cell_type": "code",
   "execution_count": null,
   "id": "87bf0b94",
   "metadata": {},
   "outputs": [],
   "source": []
  }
 ],
 "metadata": {
  "kernelspec": {
   "display_name": "Python 3 (ipykernel)",
   "language": "python",
   "name": "python3"
  },
  "language_info": {
   "codemirror_mode": {
    "name": "ipython",
    "version": 3
   },
   "file_extension": ".py",
   "mimetype": "text/x-python",
   "name": "python",
   "nbconvert_exporter": "python",
   "pygments_lexer": "ipython3",
   "version": "3.9.7"
  }
 },
 "nbformat": 4,
 "nbformat_minor": 5
}
